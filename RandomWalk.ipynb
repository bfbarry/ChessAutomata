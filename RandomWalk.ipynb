{
 "cells": [
  {
   "cell_type": "markdown",
   "metadata": {
    "execution": {
     "iopub.execute_input": "2021-11-20T23:29:34.986738Z",
     "iopub.status.busy": "2021-11-20T23:29:34.986182Z",
     "iopub.status.idle": "2021-11-20T23:29:34.998151Z",
     "shell.execute_reply": "2021-11-20T23:29:34.996735Z",
     "shell.execute_reply.started": "2021-11-20T23:29:34.986642Z"
    }
   },
   "source": [
    "# Random Chess\n",
    "\n",
    "Can you calibrate a probability distribution on pieces and their points to make a random game of chess converge towards mate faster?\n",
    "- vary board size and try custom rules I thought of\n",
    "    - like cellular automata\n",
    "    - also with multiple moves at once\n",
    "\n",
    "- Simulated annealing?\n",
    "\n",
    "cOnnection to criticality and ising model, spin glasses\n",
    "\n",
    "then deploy to Javascript as fun website widget\n",
    "\n",
    "random walk gist:\n",
    "```python\n",
    "for t in range(moves):\n",
    "    team_turn = TEAMS[t%2]\n",
    "    avail_pieces = pieces[team_turn]\n",
    "    if avail_pieces['K'].check:\n",
    "        #move to prevent check\n",
    "        # if no moves, king.mate=True\n",
    "    else: \n",
    "        piece = random.choice(avail_pieces)\n",
    "        piece.move('random')\n",
    "```\n",
    "\n",
    "maybe `castle` should be it's own piece in avail_pieces?\n",
    "\n",
    "resources:\n",
    "- [minimax](https://diatomenterprises.com/ruby-and-recursion-find-out-all-possible-chess-knights-movements-using-minimax-algorithm/)"
   ]
  },
  {
   "cell_type": "code",
   "execution_count": 4,
   "metadata": {
    "execution": {
     "iopub.execute_input": "2021-12-02T02:44:13.310824Z",
     "iopub.status.busy": "2021-12-02T02:44:13.310278Z",
     "iopub.status.idle": "2021-12-02T02:44:13.992319Z",
     "shell.execute_reply": "2021-12-02T02:44:13.990931Z",
     "shell.execute_reply.started": "2021-12-02T02:44:13.310762Z"
    }
   },
   "outputs": [
    {
     "name": "stdout",
     "output_type": "stream",
     "text": [
      "\n",
      "valid moves with a check [(2, 4), (3, 3), (3, 5), (4, 4, 'K'), (1, 4), (3, 2), (0, 4), (3, 1)]\n",
      "Ra5 this move make check (0, 5)\n",
      "valid moves with a check [(2, 4), (3, 3), (3, 5), (4, 4, 'K'), (1, 4), (3, 2), (0, 4), (3, 1)]\n",
      "valid moves with a check [(2, 4), (3, 3), (3, 5), (4, 4, 'K'), (1, 4), (3, 2), (3, 1)]\n",
      "Ra5 this move make check (1, 4)\n",
      "valid moves with a check [(2, 4), (3, 3), (3, 5), (4, 4, 'K'), (1, 4), (3, 2), (3, 1)]\n",
      "valid moves with a check [(2, 4), (3, 3), (3, 5), (4, 4, 'K'), (1, 4), (3, 2), (0, 4), (3, 1)]\n",
      "Ra5 this move make check (0, 6)\n",
      "valid moves with a check [(2, 4), (3, 3), (3, 5), (4, 4, 'K'), (1, 4), (3, 2), (0, 4), (3, 1)]\n",
      "valid moves with a check [(2, 4), (3, 3), (3, 5), (4, 4, 'K'), (3, 2), (3, 1)]\n",
      "Ra5 this move make check (2, 4)\n",
      "valid moves with a check [(2, 4), (3, 3), (3, 5), (4, 4, 'K'), (3, 2), (3, 1)]\n",
      "[(3, 4)]\n"
     ]
    },
    {
     "data": {
      "image/png": "[encoded data removed]",
      "text/plain": [
       "<Figure size 432x288 with 1 Axes>"
      ]
     },
     "metadata": {
      "needs_background": "light"
     },
     "output_type": "display_data"
    }
   ],
   "source": [
    "%matplotlib inline\n",
    "from chess.game import Chess\n",
    "\n",
    "game = Chess()\n",
    "game.move('a2', (0,3))\n",
    "game.pick('Ke1').position = (4,4) #GOOD K\n",
    "game.pick('Rh1').position = (0,4) #GOOD ROOK\n",
    "game.pick('Bf1').position = (4,5) #GOOD BISH\n",
    "# game.pick('Ng1').position = (3,5) #GOOD KNIGHT\n",
    "\n",
    "# game.move('d7', (3,5))\n",
    "game.pick('Ra8').position = (3,4) #BAD ROOK\n",
    "print()\n",
    "print(game.pick('Ra5').valid_moves(game))\n",
    "# print(game.pick('Ke5').valid_moves(game))\n",
    "\n",
    "game.show()"
   ]
  },
  {
   "cell_type": "code",
   "execution_count": 6,
   "metadata": {
    "execution": {
     "iopub.execute_input": "2021-11-29T04:57:54.047022Z",
     "iopub.status.busy": "2021-11-29T04:57:54.046337Z",
     "iopub.status.idle": "2021-11-29T04:57:54.080714Z",
     "shell.execute_reply": "2021-11-29T04:57:54.071092Z",
     "shell.execute_reply.started": "2021-11-29T04:57:54.046904Z"
    }
   },
   "outputs": [
    {
     "name": "stdout",
     "output_type": "stream",
     "text": [
      "[]\n"
     ]
    }
   ],
   "source": []
  },
  {
   "cell_type": "markdown",
   "metadata": {},
   "source": [
    "# todo\n",
    "- checking check\n",
    "\n"
   ]
  },
  {
   "cell_type": "code",
   "execution_count": null,
   "metadata": {},
   "outputs": [],
   "source": []
  }
 ],
 "metadata": {
  "kernelspec": {
   "display_name": "Python 3",
   "language": "python",
   "name": "python3"
  },
  "language_info": {
   "codemirror_mode": {
    "name": "ipython",
    "version": 3
   },
   "file_extension": ".py",
   "mimetype": "text/x-python",
   "name": "python",
   "nbconvert_exporter": "python",
   "pygments_lexer": "ipython3",
   "version": "3.7.4"
  }
 },
 "nbformat": 4,
 "nbformat_minor": 4
}
