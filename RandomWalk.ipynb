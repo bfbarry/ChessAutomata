{
 "cells": [
  {
   "cell_type": "markdown",
   "metadata": {
    "execution": {
     "iopub.execute_input": "2021-11-20T23:29:34.986738Z",
     "iopub.status.busy": "2021-11-20T23:29:34.986182Z",
     "iopub.status.idle": "2021-11-20T23:29:34.998151Z",
     "shell.execute_reply": "2021-11-20T23:29:34.996735Z",
     "shell.execute_reply.started": "2021-11-20T23:29:34.986642Z"
    }
   },
   "source": [
    "# Monte Carlo Chess\n",
    "\n",
    "Can you calibrate a probability distribution on pieces and their points to make a random game of chess converge towards mate faster?\n",
    "- vary board size and try custom rules I thought of\n",
    "    - like cellular automata\n",
    "    - also with multiple moves at once\n",
    "\n",
    "- Simulated annealing?\n",
    "\n",
    "cOnnection to criticality and ising model, spin glasses\n",
    "\n",
    "then deploy to Javascript as fun website widget\n",
    "\n",
    "random walk gist:\n",
    "```python\n",
    "for t in range(moves):\n",
    "    team_turn = TEAMS[t%2]\n",
    "    avail_pieces = pieces[team_turn]\n",
    "    if avail_pieces['K'].check:\n",
    "        #move to prevent check\n",
    "        # if no moves, king.mate=True\n",
    "    else: \n",
    "        piece = random.choice(avail_pieces)\n",
    "        piece.move('random')\n",
    "```\n",
    "\n",
    "maybe `castle` should be it's own piece in avail_pieces?\n",
    "\n",
    "resources:\n",
    "- [minimax](https://diatomenterprises.com/ruby-and-recursion-find-out-all-possible-chess-knights-movements-using-minimax-algorithm/)\n",
    "\n",
    "# todo\n",
    "- Castle, en passant, and promotion\n",
    "- Another analysis: how space of combinatorial possibilities changes over time"
   ]
  },
  {
   "cell_type": "code",
   "execution_count": 18,
   "metadata": {
    "execution": {
     "iopub.execute_input": "2021-12-07T21:48:50.115584Z",
     "iopub.status.busy": "2021-12-07T21:48:50.114989Z",
     "iopub.status.idle": "2021-12-07T21:48:50.808695Z",
     "shell.execute_reply": "2021-12-07T21:48:50.806979Z",
     "shell.execute_reply.started": "2021-12-07T21:48:50.115509Z"
    }
   },
   "outputs": [
    {
     "name": "stdout",
     "output_type": "stream",
     "text": [
      "\n",
      "[(4, 3), (5, 3), (3, 3)]\n"
     ]
    },
    {
     "data": {
      "image/png": "[encoded data removed]",
      "text/plain": [
       "<Figure size 432x288 with 1 Axes>"
      ]
     },
     "metadata": {
      "needs_background": "light"
     },
     "output_type": "display_data"
    }
   ],
   "source": [
    "%matplotlib inline\n",
    "from chess.game import Chess, TEAMS, COLORS\n",
    "\n",
    "game = Chess()\n",
    "game.move('a2', (0,3))\n",
    "game.pick('Ke1').position = (4,4) #GOOD K\n",
    "game.pick('Rh1').position = (0,4) #GOOD ROOK\n",
    "game.pick('Bf1').position = (4,5) #GOOD BISH\n",
    "# game.pick('Ng1').position = (3,5) #GOOD KNIGHT\n",
    "\n",
    "# game.move('d7', (3,5))\n",
    "game.pick('Ra8').position = (1,4) #BAD ROOK\n",
    "print()\n",
    "print(game.pick('Ke5').valid_moves(game))\n",
    "# print(game.pick('Ke5').valid_moves(game))\n",
    "game.show()"
   ]
  },
  {
   "cell_type": "markdown",
   "metadata": {
    "execution": {
     "iopub.execute_input": "2021-12-03T06:39:45.214961Z",
     "iopub.status.busy": "2021-12-03T06:39:45.214557Z",
     "iopub.status.idle": "2021-12-03T06:39:45.232257Z",
     "shell.execute_reply": "2021-12-03T06:39:45.225399Z",
     "shell.execute_reply.started": "2021-12-03T06:39:45.214900Z"
    }
   },
   "source": [
    "# Random game!\n",
    "\n",
    "Need way to tell if there is stalemate\n",
    "\n",
    "# Debugging:"
   ]
  },
  {
   "cell_type": "code",
   "execution_count": null,
   "metadata": {
    "execution": {
     "iopub.execute_input": "2021-12-08T01:25:10.587383Z",
     "iopub.status.busy": "2021-12-08T01:25:10.586202Z",
     "iopub.status.idle": "2021-12-08T03:24:32.453772Z",
     "shell.execute_reply": "2021-12-08T03:24:32.447209Z",
     "shell.execute_reply.started": "2021-12-08T01:25:10.587308Z"
    }
   },
   "outputs": [],
   "source": [
    "%matplotlib inline\n",
    "from chess.game import Chess, TEAMS, COLORS\n",
    "import random\n",
    "from IPython.display import clear_output\n",
    "import matplotlib.pyplot as plt\n",
    "import time\n",
    "\n",
    "def db_trial():\n",
    "    error = False\n",
    "    num_sim = 1\n",
    "    while not error: #keep iterating until an error\n",
    "        print(f'starting game {num_sim}')\n",
    "        mate = False\n",
    "        game = Chess()\n",
    "        i = 0\n",
    "        while not mate:\n",
    "            try:\n",
    "                piece = random.sample(game.teams(with_moves=True)[TEAMS[i%2]], 1)[0]\n",
    "            except ValueError: # when no available moves\n",
    "                print('putative mate')\n",
    "                mate = True \n",
    "            i+=1\n",
    "            try:\n",
    "                game.move(piece, 'random', history=True)\n",
    "            except:\n",
    "                print(i) #warning: will print if you interrupt kernel\n",
    "                return \n",
    "            if i > 30: #put cap on iterations\n",
    "                mate=True\n",
    "                num_sim+=1\n",
    "                \n",
    "    #         game.show(title=i)\n",
    "    #         clear_output(wait=True)\n",
    "    #         plt.show()\n",
    "    \n",
    "db_trial()"
   ]
  },
  {
   "cell_type": "code",
   "execution_count": 12,
   "metadata": {
    "execution": {
     "iopub.execute_input": "2021-12-08T01:09:57.893714Z",
     "iopub.status.busy": "2021-12-08T01:09:57.893176Z",
     "iopub.status.idle": "2021-12-08T01:09:57.903341Z",
     "shell.execute_reply": "2021-12-08T01:09:57.901840Z",
     "shell.execute_reply.started": "2021-12-08T01:09:57.893646Z"
    }
   },
   "outputs": [
    {
     "name": "stdout",
     "output_type": "stream",
     "text": [
      "0\n"
     ]
    }
   ],
   "source": [
    "def thing():\n",
    "    for i in range(10):\n",
    "        x=1\n",
    "\n",
    "        while x:\n",
    "            print(i)\n",
    "            return\n",
    "            \n",
    "thing()"
   ]
  },
  {
   "cell_type": "code",
   "execution_count": 20,
   "metadata": {
    "execution": {
     "iopub.execute_input": "2021-12-07T23:29:01.884963Z",
     "iopub.status.busy": "2021-12-07T23:29:01.884444Z",
     "iopub.status.idle": "2021-12-07T23:29:02.359583Z",
     "shell.execute_reply": "2021-12-07T23:29:02.357496Z",
     "shell.execute_reply.started": "2021-12-07T23:29:01.884897Z"
    }
   },
   "outputs": [
    {
     "data": {
      "image/png": "[encoded data removed]",
      "text/plain": [
       "<Figure size 432x288 with 1 Axes>"
      ]
     },
     "metadata": {
      "needs_background": "light"
     },
     "output_type": "display_data"
    }
   ],
   "source": [
    "game.show(game.history[0])"
   ]
  },
  {
   "cell_type": "code",
   "execution_count": 2,
   "metadata": {
    "execution": {
     "iopub.execute_input": "2021-12-07T21:40:38.785373Z",
     "iopub.status.busy": "2021-12-07T21:40:38.784658Z",
     "iopub.status.idle": "2021-12-07T21:40:45.690567Z",
     "shell.execute_reply": "2021-12-07T21:40:45.689095Z",
     "shell.execute_reply.started": "2021-12-07T21:40:38.785295Z"
    }
   },
   "outputs": [
    {
     "name": "stdout",
     "output_type": "stream",
     "text": [
      "---------------w---------\n",
      "a3 []\n",
      "b2 [(1, 3), (1, 2)]\n",
      "c3 [(2, 1), (1, 1)]\n",
      "e8 []\n",
      "f5 [(6, 5)]\n",
      "g5 [(5, 5)]\n",
      "Rb1 [(0, 0)]\n",
      "Rh3 [(6, 2), (7, 1), (7, 3), (7, 0), (7, 4)]\n",
      "Nd5 [(1, 3), (1, 5), (2, 6), (4, 2), (4, 6), (5, 3), (5, 5)]\n",
      "Nf3 [(3, 3), (4, 0), (4, 4), (6, 0), (7, 1), (7, 3)]\n",
      "Bc1 []\n",
      "Kd2 [(3, 0), (4, 0), (4, 2)]\n",
      "---------------b---------\n",
      "a4 []\n",
      "b6 []\n",
      "c5 []\n",
      "h5 []\n",
      "Ra8 []\n",
      "Rh8 []\n",
      "Nd4 []\n",
      "Nf6 []\n",
      "Bb5 []\n",
      "Bf8 []\n",
      "Qg6 []\n",
      "Kg7 []\n"
     ]
    }
   ],
   "source": [
    "for t in ('w','b'):\n",
    "    print(f'---------------{t}---------')\n",
    "    for p in game.teams()[t]:\n",
    "        print(p, game.pick(p).valid_moves(game))"
   ]
  }
 ],
 "metadata": {
  "kernelspec": {
   "display_name": "Python 3",
   "language": "python",
   "name": "python3"
  },
  "language_info": {
   "codemirror_mode": {
    "name": "ipython",
    "version": 3
   },
   "file_extension": ".py",
   "mimetype": "text/x-python",
   "name": "python",
   "nbconvert_exporter": "python",
   "pygments_lexer": "ipython3",
   "version": "3.7.4"
  }
 },
 "nbformat": 4,
 "nbformat_minor": 4
}
