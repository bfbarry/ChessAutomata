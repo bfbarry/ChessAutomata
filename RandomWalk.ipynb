{
 "cells": [
  {
   "cell_type": "markdown",
   "metadata": {
    "execution": {
     "iopub.execute_input": "2021-11-20T23:29:34.986738Z",
     "iopub.status.busy": "2021-11-20T23:29:34.986182Z",
     "iopub.status.idle": "2021-11-20T23:29:34.998151Z",
     "shell.execute_reply": "2021-11-20T23:29:34.996735Z",
     "shell.execute_reply.started": "2021-11-20T23:29:34.986642Z"
    }
   },
   "source": [
    "# Random Chess\n",
    "\n",
    "Can you calibrate a probability distribution on pieces and their points to make a random game of chess converge towards mate faster?\n",
    "- vary board size and try custom rules I thought of\n",
    "    - like cellular automata\n",
    "    - also with multiple moves at once\n",
    "\n",
    "- Simulated annealing?\n",
    "\n",
    "cOnnection to criticality and ising model, spin glasses\n",
    "\n",
    "then deploy to Javascript as fun website widget\n",
    "\n",
    "random walk gist:\n",
    "```python\n",
    "for t in range(moves):\n",
    "    team_turn = TEAMS[t%2]\n",
    "    avail_pieces = pieces[team_turn]\n",
    "    if avail_pieces['K'].check:\n",
    "        #move to prevent check\n",
    "        # if no moves, king.mate=True\n",
    "    else: \n",
    "        piece = random.choice(avail_pieces)\n",
    "        piece.move('random')\n",
    "```\n",
    "\n",
    "maybe `castle` should be it's own piece in avail_pieces?\n",
    "\n",
    "resources:\n",
    "- [minimax](https://diatomenterprises.com/ruby-and-recursion-find-out-all-possible-chess-knights-movements-using-minimax-algorithm/)"
   ]
  },
  {
   "cell_type": "code",
   "execution_count": 5,
   "metadata": {
    "execution": {
     "iopub.execute_input": "2021-11-26T19:48:16.465221Z",
     "iopub.status.busy": "2021-11-26T19:48:16.464599Z",
     "iopub.status.idle": "2021-11-26T19:48:16.476195Z",
     "shell.execute_reply": "2021-11-26T19:48:16.474873Z",
     "shell.execute_reply.started": "2021-11-26T19:48:16.465147Z"
    }
   },
   "outputs": [
    {
     "data": {
      "text/plain": [
       "dict_keys(['enc_l', 'enc_d', 'enc_u', 'enc_r'])"
      ]
     },
     "execution_count": 5,
     "metadata": {},
     "output_type": "execute_result"
    }
   ],
   "source": [
    "{e:False for e in ['enc_l', 'enc_d', 'enc_u', 'enc_r']}.keys()"
   ]
  },
  {
   "cell_type": "code",
   "execution_count": 1,
   "metadata": {
    "execution": {
     "iopub.execute_input": "2021-11-26T20:46:35.450250Z",
     "iopub.status.busy": "2021-11-26T20:46:35.449217Z",
     "iopub.status.idle": "2021-11-26T20:46:37.503075Z",
     "shell.execute_reply": "2021-11-26T20:46:37.500228Z",
     "shell.execute_reply.started": "2021-11-26T20:46:35.450167Z"
    }
   },
   "outputs": [
    {
     "name": "stdout",
     "output_type": "stream",
     "text": [
      "\n"
     ]
    },
    {
     "data": {
      "text/plain": [
       "[(4, 5), (6, 3), (6, 5), (4, 3), (3, 6), (7, 2), (7, 6), (3, 2)]"
      ]
     },
     "execution_count": 1,
     "metadata": {},
     "output_type": "execute_result"
    },
    {
     "data": {
      "image/png": "[encoded data removed]",
      "text/plain": [
       "<Figure size 432x288 with 1 Axes>"
      ]
     },
     "metadata": {
      "needs_background": "light"
     },
     "output_type": "display_data"
    }
   ],
   "source": [
    "%matplotlib inline\n",
    "from chess.game import Chess\n",
    "\n",
    "game = Chess()\n",
    "game.move('a2', (0,3))\n",
    "print()\n",
    "\n",
    "# game.move('Nb1', (0,2))\n",
    "\n",
    "\n",
    "game.pick('Bf1').position = (5,4)\n",
    "game.show()\n",
    "game.pick('Bf5').valid_moves(game.board())"
   ]
  },
  {
   "cell_type": "code",
   "execution_count": 5,
   "metadata": {
    "execution": {
     "iopub.execute_input": "2021-11-26T20:36:47.151634Z",
     "iopub.status.busy": "2021-11-26T20:36:47.151144Z",
     "iopub.status.idle": "2021-11-26T20:36:47.162325Z",
     "shell.execute_reply": "2021-11-26T20:36:47.160852Z",
     "shell.execute_reply.started": "2021-11-26T20:36:47.151570Z"
    }
   },
   "outputs": [
    {
     "data": {
      "text/plain": [
       "[123123, 123, 2, 3, 4]"
      ]
     },
     "execution_count": 5,
     "metadata": {},
     "output_type": "execute_result"
    }
   ],
   "source": [
    "x=[123123,123]\n",
    "x.extend([2,3,4])\n",
    "x"
   ]
  },
  {
   "cell_type": "code",
   "execution_count": 3,
   "metadata": {
    "execution": {
     "iopub.execute_input": "2021-11-26T20:31:45.921396Z",
     "iopub.status.busy": "2021-11-26T20:31:45.920881Z",
     "iopub.status.idle": "2021-11-26T20:31:45.937420Z",
     "shell.execute_reply": "2021-11-26T20:31:45.936189Z",
     "shell.execute_reply.started": "2021-11-26T20:31:45.921349Z"
    }
   },
   "outputs": [
    {
     "data": {
      "text/plain": [
       "[(-1, 1), (1, -1), (1, 1), (-1, -1)]"
      ]
     },
     "execution_count": 3,
     "metadata": {},
     "output_type": "execute_result"
    }
   ],
   "source": [
    "from itertools import permutations\n",
    "absmult = lambda x: abs(x[0]*x[1])\n",
    "list(set([i for i in permutations([1,1,-1,-1], 2) ]))\n"
   ]
  },
  {
   "cell_type": "markdown",
   "metadata": {},
   "source": [
    "# todo\n",
    "- fix rook bug\n",
    "\n",
    "- complete all moves for other pieces\n"
   ]
  },
  {
   "cell_type": "code",
   "execution_count": 46,
   "metadata": {
    "execution": {
     "iopub.execute_input": "2021-11-22T03:41:10.819733Z",
     "iopub.status.busy": "2021-11-22T03:41:10.818690Z",
     "iopub.status.idle": "2021-11-22T03:41:10.852528Z",
     "shell.execute_reply": "2021-11-22T03:41:10.850317Z",
     "shell.execute_reply.started": "2021-11-22T03:41:10.819684Z"
    }
   },
   "outputs": [
    {
     "ename": "SyntaxError",
     "evalue": "invalid syntax (<ipython-input-46-2ab68dd1e887>, line 16)",
     "output_type": "error",
     "traceback": [
      "\u001b[0;36m  File \u001b[0;32m\"<ipython-input-46-2ab68dd1e887>\"\u001b[0;36m, line \u001b[0;32m16\u001b[0m\n\u001b[0;31m    self.items[piece.pos] =\u001b[0m\n\u001b[0m                            ^\u001b[0m\n\u001b[0;31mSyntaxError\u001b[0m\u001b[0;31m:\u001b[0m invalid syntax\n"
     ]
    }
   ],
   "source": [
    "class A:\n",
    "    def do(self):\n",
    "        return self.x\n",
    "    def do2(self):\n",
    "        return self.thing()\n",
    "    \n",
    "class Arr:\n",
    "    def __init__(self):\n",
    "        self.items = [0,B(),0]\n",
    "        self.pos = [0, B.id_, 0]\n",
    "        \n",
    "    def __repr__(self):\n",
    "        return 'hi'\n",
    "        \n",
    "    def update(self, piece):\n",
    "        self.items[piece.pos] = \n",
    "class B(A, Arr):\n",
    "    def __init__(self):\n",
    "        self.x = 3\n",
    "        self.id_ = hash(random.random())\n",
    "        \n",
    "    \n",
    "    def thing(self):\n",
    "        return [1,2]\n",
    "\n",
    "#     def where(self, arr_obj):\n",
    "#         return arr_obj.arr.index(self)\n",
    "    \n",
    "\n",
    "    \n",
    "    \n",
    "b = B()\n",
    "\n",
    "b.do()\n",
    "\n",
    "a = Arr()\n",
    "a.arr[1].where(a)"
   ]
  },
  {
   "cell_type": "code",
   "execution_count": 28,
   "metadata": {
    "execution": {
     "iopub.execute_input": "2021-11-26T02:51:41.933323Z",
     "iopub.status.busy": "2021-11-26T02:51:41.932868Z",
     "iopub.status.idle": "2021-11-26T02:51:42.063344Z",
     "shell.execute_reply": "2021-11-26T02:51:42.059026Z",
     "shell.execute_reply.started": "2021-11-26T02:51:41.933266Z"
    }
   },
   "outputs": [
    {
     "data": {
      "text/plain": [
       "__main__.B"
      ]
     },
     "execution_count": 28,
     "metadata": {},
     "output_type": "execute_result"
    }
   ],
   "source": [
    "class X:\n",
    "    pass\n",
    "\n",
    "class B(X):\n",
    "    pass\n",
    "\n",
    "x=B()\n",
    "type(x)"
   ]
  },
  {
   "cell_type": "code",
   "execution_count": null,
   "metadata": {},
   "outputs": [],
   "source": []
  }
 ],
 "metadata": {
  "kernelspec": {
   "display_name": "Python 3",
   "language": "python",
   "name": "python3"
  },
  "language_info": {
   "codemirror_mode": {
    "name": "ipython",
    "version": 3
   },
   "file_extension": ".py",
   "mimetype": "text/x-python",
   "name": "python",
   "nbconvert_exporter": "python",
   "pygments_lexer": "ipython3",
   "version": "3.7.4"
  }
 },
 "nbformat": 4,
 "nbformat_minor": 4
}
