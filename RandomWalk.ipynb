{
 "cells": [
  {
   "cell_type": "markdown",
   "metadata": {
    "execution": {
     "iopub.execute_input": "2021-11-20T23:29:34.986738Z",
     "iopub.status.busy": "2021-11-20T23:29:34.986182Z",
     "iopub.status.idle": "2021-11-20T23:29:34.998151Z",
     "shell.execute_reply": "2021-11-20T23:29:34.996735Z",
     "shell.execute_reply.started": "2021-11-20T23:29:34.986642Z"
    }
   },
   "source": [
    "# Monte Carlo Chess\n",
    "\n",
    "Can you calibrate a probability distribution on pieces and their points to make a random game of chess converge towards mate faster?\n",
    "- vary board size and try custom rules I thought of\n",
    "    - like cellular automata\n",
    "    - also with multiple moves at once\n",
    "\n",
    "- Simulated annealing?\n",
    "\n",
    "cOnnection to criticality and ising model, spin glasses\n",
    "\n",
    "then deploy to Javascript as fun website widget\n",
    "\n",
    "random walk gist:\n",
    "```python\n",
    "for t in range(moves):\n",
    "    team_turn = TEAMS[t%2]\n",
    "    avail_pieces = pieces[team_turn]\n",
    "    if avail_pieces['K'].check:\n",
    "        #move to prevent check\n",
    "        # if no moves, king.mate=True\n",
    "    else: \n",
    "        piece = random.choice(avail_pieces)\n",
    "        piece.move('random')\n",
    "```\n",
    "\n",
    "maybe `castle` should be it's own piece in avail_pieces?\n",
    "\n",
    "resources:\n",
    "- [minimax](https://diatomenterprises.com/ruby-and-recursion-find-out-all-possible-chess-knights-movements-using-minimax-algorithm/)\n",
    "\n",
    "# todo\n",
    "- Castle, en passant, and promotion\n",
    "- Another analysis: how space of combinatorial possibilities changes over time"
   ]
  },
  {
   "cell_type": "code",
   "execution_count": 18,
   "metadata": {
    "execution": {
     "iopub.execute_input": "2021-12-07T21:48:50.115584Z",
     "iopub.status.busy": "2021-12-07T21:48:50.114989Z",
     "iopub.status.idle": "2021-12-07T21:48:50.808695Z",
     "shell.execute_reply": "2021-12-07T21:48:50.806979Z",
     "shell.execute_reply.started": "2021-12-07T21:48:50.115509Z"
    }
   },
   "outputs": [
    {
     "name": "stdout",
     "output_type": "stream",
     "text": [
      "\n",
      "[(4, 3), (5, 3), (3, 3)]\n"
     ]
    },
    {
     "data": {
      "image/png": "[encoded data removed]",
      "text/plain": [
       "<Figure size 432x288 with 1 Axes>"
      ]
     },
     "metadata": {
      "needs_background": "light"
     },
     "output_type": "display_data"
    }
   ],
   "source": [
    "%matplotlib inline\n",
    "from chess.game import Chess, TEAMS, COLORS\n",
    "\n",
    "game = Chess()\n",
    "game.move('a2', (0,3))\n",
    "game.pick('Ke1').position = (4,4) #GOOD K\n",
    "game.pick('Rh1').position = (0,4) #GOOD ROOK\n",
    "game.pick('Bf1').position = (4,5) #GOOD BISH\n",
    "# game.pick('Ng1').position = (3,5) #GOOD KNIGHT\n",
    "\n",
    "# game.move('d7', (3,5))\n",
    "game.pick('Ra8').position = (1,4) #BAD ROOK\n",
    "print()\n",
    "print(game.pick('Ke5').valid_moves(game))\n",
    "# print(game.pick('Ke5').valid_moves(game))\n",
    "game.show()"
   ]
  },
  {
   "cell_type": "markdown",
   "metadata": {
    "execution": {
     "iopub.execute_input": "2021-12-03T06:39:45.214961Z",
     "iopub.status.busy": "2021-12-03T06:39:45.214557Z",
     "iopub.status.idle": "2021-12-03T06:39:45.232257Z",
     "shell.execute_reply": "2021-12-03T06:39:45.225399Z",
     "shell.execute_reply.started": "2021-12-03T06:39:45.214900Z"
    }
   },
   "source": [
    "# Random game!\n",
    "\n",
    "Need way to tell if there is stalemate\n",
    "\n",
    "# Debugging:\n",
    "\n",
    "1. Piece has no moves and this bugs out in line 30\n",
    "2. But how was this move selected if it has no moves? "
   ]
  },
  {
   "cell_type": "code",
   "execution_count": 1,
   "metadata": {
    "execution": {
     "iopub.execute_input": "2021-12-07T21:57:08.475685Z",
     "iopub.status.busy": "2021-12-07T21:57:08.474472Z",
     "iopub.status.idle": "2021-12-07T21:57:44.836752Z",
     "shell.execute_reply": "2021-12-07T21:57:44.835098Z",
     "shell.execute_reply.started": "2021-12-07T21:57:08.475603Z"
    }
   },
   "outputs": [
    {
     "data": {
      "image/png": "[encoded data removed]",
      "text/plain": [
       "<Figure size 432x288 with 1 Axes>"
      ]
     },
     "metadata": {
      "needs_background": "light"
     },
     "output_type": "display_data"
    },
    {
     "ename": "IndexError",
     "evalue": "Cannot choose from an empty sequence",
     "output_type": "error",
     "traceback": [
      "\u001b[0;31m---------------------------------------------------------------------------\u001b[0m",
      "\u001b[0;31mIndexError\u001b[0m                                Traceback (most recent call last)",
      "\u001b[0;32m<ipython-input-1-0fbb36c00703>\u001b[0m in \u001b[0;36m<module>\u001b[0;34m\u001b[0m\n\u001b[1;32m     14\u001b[0m         \u001b[0mmate\u001b[0m \u001b[0;34m=\u001b[0m \u001b[0;32mTrue\u001b[0m\u001b[0;34m\u001b[0m\u001b[0;34m\u001b[0m\u001b[0m\n\u001b[1;32m     15\u001b[0m     \u001b[0mi\u001b[0m\u001b[0;34m+=\u001b[0m\u001b[0;36m1\u001b[0m\u001b[0;34m\u001b[0m\u001b[0;34m\u001b[0m\u001b[0m\n\u001b[0;32m---> 16\u001b[0;31m     \u001b[0mgame\u001b[0m\u001b[0;34m.\u001b[0m\u001b[0mmove\u001b[0m\u001b[0;34m(\u001b[0m\u001b[0mpiece\u001b[0m\u001b[0;34m,\u001b[0m \u001b[0;34m'random'\u001b[0m\u001b[0;34m,\u001b[0m \u001b[0mhistory\u001b[0m\u001b[0;34m=\u001b[0m\u001b[0;32mTrue\u001b[0m\u001b[0;34m)\u001b[0m\u001b[0;34m\u001b[0m\u001b[0;34m\u001b[0m\u001b[0m\n\u001b[0m\u001b[1;32m     17\u001b[0m     \u001b[0mgame\u001b[0m\u001b[0;34m.\u001b[0m\u001b[0mshow\u001b[0m\u001b[0;34m(\u001b[0m\u001b[0mtitle\u001b[0m\u001b[0;34m=\u001b[0m\u001b[0mi\u001b[0m\u001b[0;34m)\u001b[0m\u001b[0;34m\u001b[0m\u001b[0;34m\u001b[0m\u001b[0m\n\u001b[1;32m     18\u001b[0m     \u001b[0mclear_output\u001b[0m\u001b[0;34m(\u001b[0m\u001b[0mwait\u001b[0m\u001b[0;34m=\u001b[0m\u001b[0;32mTrue\u001b[0m\u001b[0;34m)\u001b[0m\u001b[0;34m\u001b[0m\u001b[0;34m\u001b[0m\u001b[0m\n",
      "\u001b[0;32m~/Desktop/Computing/Chess/chess/game.py\u001b[0m in \u001b[0;36mmove\u001b[0;34m(self, piece, in_, history)\u001b[0m\n\u001b[1;32m     67\u001b[0m             \u001b[0mprint\u001b[0m\u001b[0;34m(\u001b[0m\u001b[0;34mf'{piece} not found in:'\u001b[0m\u001b[0;34m,\u001b[0m \u001b[0mself\u001b[0m\u001b[0;34m.\u001b[0m\u001b[0mpieces\u001b[0m\u001b[0;34m)\u001b[0m\u001b[0;34m\u001b[0m\u001b[0;34m\u001b[0m\u001b[0m\n\u001b[1;32m     68\u001b[0m             \u001b[0;32mreturn\u001b[0m\u001b[0;34m\u001b[0m\u001b[0;34m\u001b[0m\u001b[0m\n\u001b[0;32m---> 69\u001b[0;31m         \u001b[0mpiece\u001b[0m\u001b[0;34m.\u001b[0m\u001b[0mmove\u001b[0m\u001b[0;34m(\u001b[0m\u001b[0mself\u001b[0m\u001b[0;34m,\u001b[0m \u001b[0min_\u001b[0m\u001b[0;34m)\u001b[0m\u001b[0;34m\u001b[0m\u001b[0;34m\u001b[0m\u001b[0m\n\u001b[0m\u001b[1;32m     70\u001b[0m \u001b[0;34m\u001b[0m\u001b[0m\n\u001b[1;32m     71\u001b[0m     \u001b[0;32mdef\u001b[0m \u001b[0mshow\u001b[0m\u001b[0;34m(\u001b[0m\u001b[0mself\u001b[0m\u001b[0;34m,\u001b[0m \u001b[0mpieces\u001b[0m\u001b[0;34m=\u001b[0m\u001b[0;32mNone\u001b[0m\u001b[0;34m,\u001b[0m \u001b[0mtitle\u001b[0m\u001b[0;34m=\u001b[0m\u001b[0;32mNone\u001b[0m\u001b[0;34m)\u001b[0m\u001b[0;34m:\u001b[0m\u001b[0;34m\u001b[0m\u001b[0;34m\u001b[0m\u001b[0m\n",
      "\u001b[0;32m~/Desktop/Computing/Chess/chess/pieces.py\u001b[0m in \u001b[0;36mmove\u001b[0;34m(self, game, in_)\u001b[0m\n\u001b[1;32m     28\u001b[0m         \u001b[0mmoves\u001b[0m \u001b[0;34m=\u001b[0m \u001b[0mself\u001b[0m\u001b[0;34m.\u001b[0m\u001b[0mvalid_moves\u001b[0m\u001b[0;34m(\u001b[0m\u001b[0mgame\u001b[0m\u001b[0;34m)\u001b[0m \u001b[0;31m#moves including self-check inducing ones\u001b[0m\u001b[0;34m\u001b[0m\u001b[0;34m\u001b[0m\u001b[0m\n\u001b[1;32m     29\u001b[0m         \u001b[0;32mif\u001b[0m \u001b[0min_\u001b[0m \u001b[0;34m==\u001b[0m \u001b[0;34m'random'\u001b[0m\u001b[0;34m:\u001b[0m\u001b[0;34m\u001b[0m\u001b[0;34m\u001b[0m\u001b[0m\n\u001b[0;32m---> 30\u001b[0;31m             \u001b[0mmove\u001b[0m \u001b[0;34m=\u001b[0m \u001b[0mrandom\u001b[0m\u001b[0;34m.\u001b[0m\u001b[0mchoice\u001b[0m\u001b[0;34m(\u001b[0m\u001b[0;34m[\u001b[0m\u001b[0mm\u001b[0m \u001b[0;32mfor\u001b[0m \u001b[0mm\u001b[0m \u001b[0;32min\u001b[0m \u001b[0mmoves\u001b[0m \u001b[0;32mif\u001b[0m \u001b[0mlen\u001b[0m\u001b[0;34m(\u001b[0m\u001b[0mm\u001b[0m\u001b[0;34m)\u001b[0m \u001b[0;34m<\u001b[0m \u001b[0;36m3\u001b[0m\u001b[0;34m]\u001b[0m\u001b[0;34m)\u001b[0m \u001b[0;31m#filter out king-taking moves\u001b[0m\u001b[0;34m\u001b[0m\u001b[0;34m\u001b[0m\u001b[0m\n\u001b[0m\u001b[1;32m     31\u001b[0m         \u001b[0;32melse\u001b[0m\u001b[0;34m:\u001b[0m\u001b[0;34m\u001b[0m\u001b[0;34m\u001b[0m\u001b[0m\n\u001b[1;32m     32\u001b[0m             \u001b[0;32mif\u001b[0m \u001b[0min_\u001b[0m \u001b[0;32min\u001b[0m \u001b[0mmoves\u001b[0m\u001b[0;34m:\u001b[0m\u001b[0;34m\u001b[0m\u001b[0;34m\u001b[0m\u001b[0m\n",
      "\u001b[0;32m~/opt/anaconda3/lib/python3.7/random.py\u001b[0m in \u001b[0;36mchoice\u001b[0;34m(self, seq)\u001b[0m\n\u001b[1;32m    259\u001b[0m             \u001b[0mi\u001b[0m \u001b[0;34m=\u001b[0m \u001b[0mself\u001b[0m\u001b[0;34m.\u001b[0m\u001b[0m_randbelow\u001b[0m\u001b[0;34m(\u001b[0m\u001b[0mlen\u001b[0m\u001b[0;34m(\u001b[0m\u001b[0mseq\u001b[0m\u001b[0;34m)\u001b[0m\u001b[0;34m)\u001b[0m\u001b[0;34m\u001b[0m\u001b[0;34m\u001b[0m\u001b[0m\n\u001b[1;32m    260\u001b[0m         \u001b[0;32mexcept\u001b[0m \u001b[0mValueError\u001b[0m\u001b[0;34m:\u001b[0m\u001b[0;34m\u001b[0m\u001b[0;34m\u001b[0m\u001b[0m\n\u001b[0;32m--> 261\u001b[0;31m             \u001b[0;32mraise\u001b[0m \u001b[0mIndexError\u001b[0m\u001b[0;34m(\u001b[0m\u001b[0;34m'Cannot choose from an empty sequence'\u001b[0m\u001b[0;34m)\u001b[0m \u001b[0;32mfrom\u001b[0m \u001b[0;32mNone\u001b[0m\u001b[0;34m\u001b[0m\u001b[0;34m\u001b[0m\u001b[0m\n\u001b[0m\u001b[1;32m    262\u001b[0m         \u001b[0;32mreturn\u001b[0m \u001b[0mseq\u001b[0m\u001b[0;34m[\u001b[0m\u001b[0mi\u001b[0m\u001b[0;34m]\u001b[0m\u001b[0;34m\u001b[0m\u001b[0;34m\u001b[0m\u001b[0m\n\u001b[1;32m    263\u001b[0m \u001b[0;34m\u001b[0m\u001b[0m\n",
      "\u001b[0;31mIndexError\u001b[0m: Cannot choose from an empty sequence"
     ]
    }
   ],
   "source": [
    "%matplotlib inline\n",
    "from chess.game import Chess, TEAMS, COLORS\n",
    "import random\n",
    "from IPython.display import clear_output\n",
    "import matplotlib.pyplot as plt\n",
    "import time\n",
    "mate = False\n",
    "game = Chess()\n",
    "i = 0\n",
    "while not mate:\n",
    "    try:\n",
    "        piece = random.sample(game.teams(with_moves=True)[TEAMS[i%2]], 1)[0]\n",
    "    except ValueError: # when no available moves\n",
    "        mate = True \n",
    "    i+=1\n",
    "    game.move(piece, 'random', history=True)\n",
    "    game.show(title=i)\n",
    "    clear_output(wait=True)\n",
    "    plt.show()"
   ]
  },
  {
   "cell_type": "code",
   "execution_count": 37,
   "metadata": {
    "execution": {
     "iopub.execute_input": "2021-12-07T23:38:20.365477Z",
     "iopub.status.busy": "2021-12-07T23:38:20.364888Z",
     "iopub.status.idle": "2021-12-07T23:38:21.335865Z",
     "shell.execute_reply": "2021-12-07T23:38:21.334676Z",
     "shell.execute_reply.started": "2021-12-07T23:38:20.365403Z"
    }
   },
   "outputs": [
    {
     "name": "stdout",
     "output_type": "stream",
     "text": [
      "[(6, 2), (7, 2)]\n"
     ]
    }
   ],
   "source": [
    "# {c:[str(p) for p in game.pieces \n",
    "#   if p.alive and len(p.valid_moves(game)) > 0 and p.team==c] \n",
    "#      for c in TEAMS}\n",
    "for p in game.pieces:\n",
    "    for c in TEAMS:\n",
    "        if p.alive and len(p.valid_moves(game)) > 0 and p.team==c:\n",
    "            if str(p) == 'g4':\n",
    "                print(p.valid_moves(game))\n",
    "    "
   ]
  },
  {
   "cell_type": "code",
   "execution_count": 45,
   "metadata": {
    "execution": {
     "iopub.execute_input": "2021-12-08T00:01:28.505152Z",
     "iopub.status.busy": "2021-12-08T00:01:28.504694Z",
     "iopub.status.idle": "2021-12-08T00:01:28.517367Z",
     "shell.execute_reply": "2021-12-08T00:01:28.516118Z",
     "shell.execute_reply.started": "2021-12-08T00:01:28.505095Z"
    }
   },
   "outputs": [
    {
     "data": {
      "text/plain": [
       "'w'"
      ]
     },
     "execution_count": 45,
     "metadata": {},
     "output_type": "execute_result"
    }
   ],
   "source": [
    "game.pieces[10].team#.valid_moves(game)"
   ]
  },
  {
   "cell_type": "code",
   "execution_count": 24,
   "metadata": {
    "execution": {
     "iopub.execute_input": "2021-12-07T23:30:38.837061Z",
     "iopub.status.busy": "2021-12-07T23:30:38.836439Z",
     "iopub.status.idle": "2021-12-07T23:30:39.529349Z",
     "shell.execute_reply": "2021-12-07T23:30:39.527963Z",
     "shell.execute_reply.started": "2021-12-07T23:30:38.836884Z"
    }
   },
   "outputs": [
    {
     "data": {
      "text/plain": [
       "['b7', 'c7', 'd7', 'e5', 'g4', 'h6', 'Ra8', 'Rh8', 'Na7', 'Nf6', 'Bc5', 'Ke8']"
      ]
     },
     "execution_count": 24,
     "metadata": {},
     "output_type": "execute_result"
    }
   ],
   "source": [
    "game.teams(with_moves=True)[TEAMS[1]]"
   ]
  },
  {
   "cell_type": "code",
   "execution_count": 38,
   "metadata": {
    "execution": {
     "iopub.execute_input": "2021-12-07T23:38:54.391762Z",
     "iopub.status.busy": "2021-12-07T23:38:54.391252Z",
     "iopub.status.idle": "2021-12-07T23:38:54.404503Z",
     "shell.execute_reply": "2021-12-07T23:38:54.401392Z",
     "shell.execute_reply.started": "2021-12-07T23:38:54.391688Z"
    }
   },
   "outputs": [
    {
     "data": {
      "text/plain": [
       "[]"
      ]
     },
     "execution_count": 38,
     "metadata": {},
     "output_type": "execute_result"
    }
   ],
   "source": [
    "game.pick('g4').valid_moves(game, check_filt=False)"
   ]
  },
  {
   "cell_type": "code",
   "execution_count": 48,
   "metadata": {
    "execution": {
     "iopub.execute_input": "2021-12-08T00:03:09.704311Z",
     "iopub.status.busy": "2021-12-08T00:03:09.703805Z",
     "iopub.status.idle": "2021-12-08T00:03:09.716596Z",
     "shell.execute_reply": "2021-12-08T00:03:09.714331Z",
     "shell.execute_reply.started": "2021-12-08T00:03:09.704244Z"
    }
   },
   "outputs": [
    {
     "data": {
      "text/plain": [
       "[]"
      ]
     },
     "execution_count": 48,
     "metadata": {},
     "output_type": "execute_result"
    }
   ],
   "source": [
    "{str(p):p for p in game.pieces}['g4'].valid_moves(game, check_filt=False)"
   ]
  },
  {
   "cell_type": "code",
   "execution_count": 20,
   "metadata": {
    "execution": {
     "iopub.execute_input": "2021-12-07T23:29:01.884963Z",
     "iopub.status.busy": "2021-12-07T23:29:01.884444Z",
     "iopub.status.idle": "2021-12-07T23:29:02.359583Z",
     "shell.execute_reply": "2021-12-07T23:29:02.357496Z",
     "shell.execute_reply.started": "2021-12-07T23:29:01.884897Z"
    }
   },
   "outputs": [
    {
     "data": {
      "image/png": "[encoded data removed]",
      "text/plain": [
       "<Figure size 432x288 with 1 Axes>"
      ]
     },
     "metadata": {
      "needs_background": "light"
     },
     "output_type": "display_data"
    }
   ],
   "source": [
    "game.show(game.history[0])"
   ]
  },
  {
   "cell_type": "code",
   "execution_count": 2,
   "metadata": {
    "execution": {
     "iopub.execute_input": "2021-12-07T21:40:38.785373Z",
     "iopub.status.busy": "2021-12-07T21:40:38.784658Z",
     "iopub.status.idle": "2021-12-07T21:40:45.690567Z",
     "shell.execute_reply": "2021-12-07T21:40:45.689095Z",
     "shell.execute_reply.started": "2021-12-07T21:40:38.785295Z"
    }
   },
   "outputs": [
    {
     "name": "stdout",
     "output_type": "stream",
     "text": [
      "---------------w---------\n",
      "a3 []\n",
      "b2 [(1, 3), (1, 2)]\n",
      "c3 [(2, 1), (1, 1)]\n",
      "e8 []\n",
      "f5 [(6, 5)]\n",
      "g5 [(5, 5)]\n",
      "Rb1 [(0, 0)]\n",
      "Rh3 [(6, 2), (7, 1), (7, 3), (7, 0), (7, 4)]\n",
      "Nd5 [(1, 3), (1, 5), (2, 6), (4, 2), (4, 6), (5, 3), (5, 5)]\n",
      "Nf3 [(3, 3), (4, 0), (4, 4), (6, 0), (7, 1), (7, 3)]\n",
      "Bc1 []\n",
      "Kd2 [(3, 0), (4, 0), (4, 2)]\n",
      "---------------b---------\n",
      "a4 []\n",
      "b6 []\n",
      "c5 []\n",
      "h5 []\n",
      "Ra8 []\n",
      "Rh8 []\n",
      "Nd4 []\n",
      "Nf6 []\n",
      "Bb5 []\n",
      "Bf8 []\n",
      "Qg6 []\n",
      "Kg7 []\n"
     ]
    }
   ],
   "source": [
    "for t in ('w','b'):\n",
    "    print(f'---------------{t}---------')\n",
    "    for p in game.teams()[t]:\n",
    "        print(p, game.pick(p).valid_moves(game))"
   ]
  }
 ],
 "metadata": {
  "kernelspec": {
   "display_name": "Python 3",
   "language": "python",
   "name": "python3"
  },
  "language_info": {
   "codemirror_mode": {
    "name": "ipython",
    "version": 3
   },
   "file_extension": ".py",
   "mimetype": "text/x-python",
   "name": "python",
   "nbconvert_exporter": "python",
   "pygments_lexer": "ipython3",
   "version": "3.7.4"
  }
 },
 "nbformat": 4,
 "nbformat_minor": 4
}
