{
 "cells": [
  {
   "cell_type": "markdown",
   "metadata": {
    "execution": {
     "iopub.execute_input": "2021-11-20T23:29:34.986738Z",
     "iopub.status.busy": "2021-11-20T23:29:34.986182Z",
     "iopub.status.idle": "2021-11-20T23:29:34.998151Z",
     "shell.execute_reply": "2021-11-20T23:29:34.996735Z",
     "shell.execute_reply.started": "2021-11-20T23:29:34.986642Z"
    }
   },
   "source": [
    "# Monte Carlo Chess\n",
    "\n",
    "Can you calibrate a probability distribution on pieces and their points to make a random game of chess converge towards mate faster?\n",
    "- vary board size and try custom rules I thought of\n",
    "    - like cellular automata\n",
    "    - also with multiple moves at once\n",
    "\n",
    "- Simulated annealing?\n",
    "\n",
    "cOnnection to criticality and ising model, spin glasses\n",
    "\n",
    "then deploy to Javascript as fun website widget\n",
    "\n",
    "random walk gist:\n",
    "```python\n",
    "for t in range(moves):\n",
    "    team_turn = TEAMS[t%2]\n",
    "    avail_pieces = pieces[team_turn]\n",
    "    if avail_pieces['K'].check:\n",
    "        #move to prevent check\n",
    "        # if no moves, king.mate=True\n",
    "    else: \n",
    "        piece = random.choice(avail_pieces)\n",
    "        piece.move('random')\n",
    "```\n",
    "\n",
    "maybe `castle` should be it's own piece in avail_pieces?\n",
    "\n",
    "resources:\n",
    "- [minimax](https://diatomenterprises.com/ruby-and-recursion-find-out-all-possible-chess-knights-movements-using-minimax-algorithm/)\n",
    "\n",
    "# todo\n",
    "- Castle, en passant, and promotion\n",
    "- Another analysis: how space of combinatorial possibilities changes over time"
   ]
  },
  {
   "cell_type": "code",
   "execution_count": 1,
   "metadata": {
    "execution": {
     "iopub.execute_input": "2021-12-03T06:58:31.758682Z",
     "iopub.status.busy": "2021-12-03T06:58:31.758036Z",
     "iopub.status.idle": "2021-12-03T06:58:33.914711Z",
     "shell.execute_reply": "2021-12-03T06:58:33.913149Z",
     "shell.execute_reply.started": "2021-12-03T06:58:31.758606Z"
    }
   },
   "outputs": [
    {
     "name": "stdout",
     "output_type": "stream",
     "text": [
      "\n",
      "[(3, 4)]\n"
     ]
    },
    {
     "data": {
      "image/png": "[encoded data removed]",
      "text/plain": [
       "<Figure size 432x288 with 1 Axes>"
      ]
     },
     "metadata": {
      "needs_background": "light"
     },
     "output_type": "display_data"
    }
   ],
   "source": [
    "%matplotlib inline\n",
    "from chess.game import Chess, TEAMS, COLORS\n",
    "\n",
    "game = Chess()\n",
    "game.move('a2', (0,3))\n",
    "game.pick('Ke1').position = (4,4) #GOOD K\n",
    "game.pick('Rh1').position = (0,4) #GOOD ROOK\n",
    "game.pick('Bf1').position = (4,5) #GOOD BISH\n",
    "# game.pick('Ng1').position = (3,5) #GOOD KNIGHT\n",
    "\n",
    "# game.move('d7', (3,5))\n",
    "game.pick('Ra8').position = (1,4) #BAD ROOK\n",
    "print()\n",
    "print(game.pick('Be6').valid_moves(game))\n",
    "# print(game.pick('Ke5').valid_moves(game))\n",
    "game.show()"
   ]
  },
  {
   "cell_type": "markdown",
   "metadata": {
    "execution": {
     "iopub.execute_input": "2021-12-03T06:39:45.214961Z",
     "iopub.status.busy": "2021-12-03T06:39:45.214557Z",
     "iopub.status.idle": "2021-12-03T06:39:45.232257Z",
     "shell.execute_reply": "2021-12-03T06:39:45.225399Z",
     "shell.execute_reply.started": "2021-12-03T06:39:45.214900Z"
    }
   },
   "source": [
    "# Random game!\n",
    "\n",
    "Need way to tell if there is stalemate\n",
    "\n",
    "Debugging:\n",
    "\n",
    "Some pieces have "
   ]
  },
  {
   "cell_type": "code",
   "execution_count": 22,
   "metadata": {
    "execution": {
     "iopub.execute_input": "2021-12-07T21:27:58.414619Z",
     "iopub.status.busy": "2021-12-07T21:27:58.413982Z",
     "iopub.status.idle": "2021-12-07T21:27:59.172435Z",
     "shell.execute_reply": "2021-12-07T21:27:59.170261Z",
     "shell.execute_reply.started": "2021-12-07T21:27:58.414543Z"
    }
   },
   "outputs": [
    {
     "ename": "ValueError",
     "evalue": "too many values to unpack (expected 2)",
     "output_type": "error",
     "traceback": [
      "\u001b[0;31m---------------------------------------------------------------------------\u001b[0m",
      "\u001b[0;31mValueError\u001b[0m                                Traceback (most recent call last)",
      "\u001b[0;32m<ipython-input-22-6ef069f97668>\u001b[0m in \u001b[0;36m<module>\u001b[0;34m\u001b[0m\n\u001b[0;32m----> 1\u001b[0;31m \u001b[0mgame\u001b[0m\u001b[0;34m.\u001b[0m\u001b[0mteams\u001b[0m\u001b[0;34m(\u001b[0m\u001b[0mwith_moves\u001b[0m\u001b[0;34m=\u001b[0m\u001b[0;32mTrue\u001b[0m\u001b[0;34m)\u001b[0m\u001b[0;34m[\u001b[0m\u001b[0mTEAMS\u001b[0m\u001b[0;34m[\u001b[0m\u001b[0mi\u001b[0m\u001b[0;34m%\u001b[0m\u001b[0;36m2\u001b[0m\u001b[0;34m]\u001b[0m\u001b[0;34m]\u001b[0m\u001b[0;34m\u001b[0m\u001b[0;34m\u001b[0m\u001b[0m\n\u001b[0m",
      "\u001b[0;32m~/Desktop/Computing/Chess/chess/game.py\u001b[0m in \u001b[0;36mteams\u001b[0;34m(self, with_moves)\u001b[0m\n\u001b[1;32m     32\u001b[0m         with_moves: bool, filter only pieces that have moves left\"\"\"\n\u001b[1;32m     33\u001b[0m         \u001b[0;32mif\u001b[0m \u001b[0mwith_moves\u001b[0m\u001b[0;34m:\u001b[0m\u001b[0;34m\u001b[0m\u001b[0;34m\u001b[0m\u001b[0m\n\u001b[0;32m---> 34\u001b[0;31m             \u001b[0;32mreturn\u001b[0m \u001b[0;34m{\u001b[0m\u001b[0mc\u001b[0m\u001b[0;34m:\u001b[0m \u001b[0;34m[\u001b[0m\u001b[0mstr\u001b[0m\u001b[0;34m(\u001b[0m\u001b[0mp\u001b[0m\u001b[0;34m)\u001b[0m \u001b[0;32mfor\u001b[0m \u001b[0mp\u001b[0m \u001b[0;32min\u001b[0m \u001b[0mself\u001b[0m\u001b[0;34m.\u001b[0m\u001b[0mpieces\u001b[0m \u001b[0;32mif\u001b[0m \u001b[0mp\u001b[0m\u001b[0;34m.\u001b[0m\u001b[0mteam\u001b[0m\u001b[0;34m==\u001b[0m\u001b[0mc\u001b[0m \u001b[0;32mand\u001b[0m \u001b[0mlen\u001b[0m\u001b[0;34m(\u001b[0m\u001b[0mp\u001b[0m\u001b[0;34m.\u001b[0m\u001b[0mvalid_moves\u001b[0m\u001b[0;34m(\u001b[0m\u001b[0mself\u001b[0m\u001b[0;34m)\u001b[0m\u001b[0;34m)\u001b[0m \u001b[0;34m>\u001b[0m \u001b[0;36m0\u001b[0m \u001b[0;32mand\u001b[0m \u001b[0mp\u001b[0m\u001b[0;34m.\u001b[0m\u001b[0malive\u001b[0m\u001b[0;34m]\u001b[0m \u001b[0;32mfor\u001b[0m \u001b[0mc\u001b[0m \u001b[0;32min\u001b[0m \u001b[0mTEAMS\u001b[0m\u001b[0;34m}\u001b[0m\u001b[0;34m\u001b[0m\u001b[0;34m\u001b[0m\u001b[0m\n\u001b[0m\u001b[1;32m     35\u001b[0m         \u001b[0;32melse\u001b[0m\u001b[0;34m:\u001b[0m\u001b[0;34m\u001b[0m\u001b[0;34m\u001b[0m\u001b[0m\n\u001b[1;32m     36\u001b[0m             \u001b[0;32mreturn\u001b[0m \u001b[0;34m{\u001b[0m\u001b[0mc\u001b[0m\u001b[0;34m:\u001b[0m \u001b[0;34m[\u001b[0m\u001b[0mstr\u001b[0m\u001b[0;34m(\u001b[0m\u001b[0mp\u001b[0m\u001b[0;34m)\u001b[0m \u001b[0;32mfor\u001b[0m \u001b[0mp\u001b[0m \u001b[0;32min\u001b[0m \u001b[0mself\u001b[0m\u001b[0;34m.\u001b[0m\u001b[0mpieces\u001b[0m \u001b[0;32mif\u001b[0m \u001b[0mp\u001b[0m\u001b[0;34m.\u001b[0m\u001b[0mteam\u001b[0m\u001b[0;34m==\u001b[0m\u001b[0mc\u001b[0m \u001b[0;32mand\u001b[0m \u001b[0mp\u001b[0m\u001b[0;34m.\u001b[0m\u001b[0malive\u001b[0m\u001b[0;34m]\u001b[0m \u001b[0;32mfor\u001b[0m \u001b[0mc\u001b[0m \u001b[0;32min\u001b[0m \u001b[0mTEAMS\u001b[0m\u001b[0;34m}\u001b[0m\u001b[0;34m\u001b[0m\u001b[0;34m\u001b[0m\u001b[0m\n",
      "\u001b[0;32m~/Desktop/Computing/Chess/chess/game.py\u001b[0m in \u001b[0;36m<dictcomp>\u001b[0;34m(.0)\u001b[0m\n\u001b[1;32m     32\u001b[0m         with_moves: bool, filter only pieces that have moves left\"\"\"\n\u001b[1;32m     33\u001b[0m         \u001b[0;32mif\u001b[0m \u001b[0mwith_moves\u001b[0m\u001b[0;34m:\u001b[0m\u001b[0;34m\u001b[0m\u001b[0;34m\u001b[0m\u001b[0m\n\u001b[0;32m---> 34\u001b[0;31m             \u001b[0;32mreturn\u001b[0m \u001b[0;34m{\u001b[0m\u001b[0mc\u001b[0m\u001b[0;34m:\u001b[0m \u001b[0;34m[\u001b[0m\u001b[0mstr\u001b[0m\u001b[0;34m(\u001b[0m\u001b[0mp\u001b[0m\u001b[0;34m)\u001b[0m \u001b[0;32mfor\u001b[0m \u001b[0mp\u001b[0m \u001b[0;32min\u001b[0m \u001b[0mself\u001b[0m\u001b[0;34m.\u001b[0m\u001b[0mpieces\u001b[0m \u001b[0;32mif\u001b[0m \u001b[0mp\u001b[0m\u001b[0;34m.\u001b[0m\u001b[0mteam\u001b[0m\u001b[0;34m==\u001b[0m\u001b[0mc\u001b[0m \u001b[0;32mand\u001b[0m \u001b[0mlen\u001b[0m\u001b[0;34m(\u001b[0m\u001b[0mp\u001b[0m\u001b[0;34m.\u001b[0m\u001b[0mvalid_moves\u001b[0m\u001b[0;34m(\u001b[0m\u001b[0mself\u001b[0m\u001b[0;34m)\u001b[0m\u001b[0;34m)\u001b[0m \u001b[0;34m>\u001b[0m \u001b[0;36m0\u001b[0m \u001b[0;32mand\u001b[0m \u001b[0mp\u001b[0m\u001b[0;34m.\u001b[0m\u001b[0malive\u001b[0m\u001b[0;34m]\u001b[0m \u001b[0;32mfor\u001b[0m \u001b[0mc\u001b[0m \u001b[0;32min\u001b[0m \u001b[0mTEAMS\u001b[0m\u001b[0;34m}\u001b[0m\u001b[0;34m\u001b[0m\u001b[0;34m\u001b[0m\u001b[0m\n\u001b[0m\u001b[1;32m     35\u001b[0m         \u001b[0;32melse\u001b[0m\u001b[0;34m:\u001b[0m\u001b[0;34m\u001b[0m\u001b[0;34m\u001b[0m\u001b[0m\n\u001b[1;32m     36\u001b[0m             \u001b[0;32mreturn\u001b[0m \u001b[0;34m{\u001b[0m\u001b[0mc\u001b[0m\u001b[0;34m:\u001b[0m \u001b[0;34m[\u001b[0m\u001b[0mstr\u001b[0m\u001b[0;34m(\u001b[0m\u001b[0mp\u001b[0m\u001b[0;34m)\u001b[0m \u001b[0;32mfor\u001b[0m \u001b[0mp\u001b[0m \u001b[0;32min\u001b[0m \u001b[0mself\u001b[0m\u001b[0;34m.\u001b[0m\u001b[0mpieces\u001b[0m \u001b[0;32mif\u001b[0m \u001b[0mp\u001b[0m\u001b[0;34m.\u001b[0m\u001b[0mteam\u001b[0m\u001b[0;34m==\u001b[0m\u001b[0mc\u001b[0m \u001b[0;32mand\u001b[0m \u001b[0mp\u001b[0m\u001b[0;34m.\u001b[0m\u001b[0malive\u001b[0m\u001b[0;34m]\u001b[0m \u001b[0;32mfor\u001b[0m \u001b[0mc\u001b[0m \u001b[0;32min\u001b[0m \u001b[0mTEAMS\u001b[0m\u001b[0;34m}\u001b[0m\u001b[0;34m\u001b[0m\u001b[0;34m\u001b[0m\u001b[0m\n",
      "\u001b[0;32m~/Desktop/Computing/Chess/chess/game.py\u001b[0m in \u001b[0;36m<listcomp>\u001b[0;34m(.0)\u001b[0m\n\u001b[1;32m     32\u001b[0m         with_moves: bool, filter only pieces that have moves left\"\"\"\n\u001b[1;32m     33\u001b[0m         \u001b[0;32mif\u001b[0m \u001b[0mwith_moves\u001b[0m\u001b[0;34m:\u001b[0m\u001b[0;34m\u001b[0m\u001b[0;34m\u001b[0m\u001b[0m\n\u001b[0;32m---> 34\u001b[0;31m             \u001b[0;32mreturn\u001b[0m \u001b[0;34m{\u001b[0m\u001b[0mc\u001b[0m\u001b[0;34m:\u001b[0m \u001b[0;34m[\u001b[0m\u001b[0mstr\u001b[0m\u001b[0;34m(\u001b[0m\u001b[0mp\u001b[0m\u001b[0;34m)\u001b[0m \u001b[0;32mfor\u001b[0m \u001b[0mp\u001b[0m \u001b[0;32min\u001b[0m \u001b[0mself\u001b[0m\u001b[0;34m.\u001b[0m\u001b[0mpieces\u001b[0m \u001b[0;32mif\u001b[0m \u001b[0mp\u001b[0m\u001b[0;34m.\u001b[0m\u001b[0mteam\u001b[0m\u001b[0;34m==\u001b[0m\u001b[0mc\u001b[0m \u001b[0;32mand\u001b[0m \u001b[0mlen\u001b[0m\u001b[0;34m(\u001b[0m\u001b[0mp\u001b[0m\u001b[0;34m.\u001b[0m\u001b[0mvalid_moves\u001b[0m\u001b[0;34m(\u001b[0m\u001b[0mself\u001b[0m\u001b[0;34m)\u001b[0m\u001b[0;34m)\u001b[0m \u001b[0;34m>\u001b[0m \u001b[0;36m0\u001b[0m \u001b[0;32mand\u001b[0m \u001b[0mp\u001b[0m\u001b[0;34m.\u001b[0m\u001b[0malive\u001b[0m\u001b[0;34m]\u001b[0m \u001b[0;32mfor\u001b[0m \u001b[0mc\u001b[0m \u001b[0;32min\u001b[0m \u001b[0mTEAMS\u001b[0m\u001b[0;34m}\u001b[0m\u001b[0;34m\u001b[0m\u001b[0;34m\u001b[0m\u001b[0m\n\u001b[0m\u001b[1;32m     35\u001b[0m         \u001b[0;32melse\u001b[0m\u001b[0;34m:\u001b[0m\u001b[0;34m\u001b[0m\u001b[0;34m\u001b[0m\u001b[0m\n\u001b[1;32m     36\u001b[0m             \u001b[0;32mreturn\u001b[0m \u001b[0;34m{\u001b[0m\u001b[0mc\u001b[0m\u001b[0;34m:\u001b[0m \u001b[0;34m[\u001b[0m\u001b[0mstr\u001b[0m\u001b[0;34m(\u001b[0m\u001b[0mp\u001b[0m\u001b[0;34m)\u001b[0m \u001b[0;32mfor\u001b[0m \u001b[0mp\u001b[0m \u001b[0;32min\u001b[0m \u001b[0mself\u001b[0m\u001b[0;34m.\u001b[0m\u001b[0mpieces\u001b[0m \u001b[0;32mif\u001b[0m \u001b[0mp\u001b[0m\u001b[0;34m.\u001b[0m\u001b[0mteam\u001b[0m\u001b[0;34m==\u001b[0m\u001b[0mc\u001b[0m \u001b[0;32mand\u001b[0m \u001b[0mp\u001b[0m\u001b[0;34m.\u001b[0m\u001b[0malive\u001b[0m\u001b[0;34m]\u001b[0m \u001b[0;32mfor\u001b[0m \u001b[0mc\u001b[0m \u001b[0;32min\u001b[0m \u001b[0mTEAMS\u001b[0m\u001b[0;34m}\u001b[0m\u001b[0;34m\u001b[0m\u001b[0;34m\u001b[0m\u001b[0m\n",
      "\u001b[0;32m~/Desktop/Computing/Chess/chess/pieces.py\u001b[0m in \u001b[0;36mvalid_moves\u001b[0;34m(self, game, check_filt)\u001b[0m\n\u001b[1;32m    100\u001b[0m                 \u001b[0;32mpass\u001b[0m\u001b[0;34m\u001b[0m\u001b[0;34m\u001b[0m\u001b[0m\n\u001b[1;32m    101\u001b[0m \u001b[0;34m\u001b[0m\u001b[0m\n\u001b[0;32m--> 102\u001b[0;31m         \u001b[0;31m#Both makes sure move doesn't put king in check, and what moves to do if king is in check\u001b[0m\u001b[0;34m\u001b[0m\u001b[0;34m\u001b[0m\u001b[0;34m\u001b[0m\u001b[0m\n\u001b[0m\u001b[1;32m    103\u001b[0m         \u001b[0;32mif\u001b[0m \u001b[0mcheck_filt\u001b[0m\u001b[0;34m:\u001b[0m\u001b[0;34m\u001b[0m\u001b[0;34m\u001b[0m\u001b[0m\n\u001b[1;32m    104\u001b[0m             \u001b[0mvalid_moves\u001b[0m \u001b[0;34m=\u001b[0m \u001b[0;34m[\u001b[0m\u001b[0mm\u001b[0m \u001b[0;32mfor\u001b[0m \u001b[0mm\u001b[0m \u001b[0;32min\u001b[0m \u001b[0mvalid_moves\u001b[0m \u001b[0;32mif\u001b[0m \u001b[0;32mnot\u001b[0m \u001b[0mself\u001b[0m\u001b[0;34m.\u001b[0m\u001b[0mcheck_test\u001b[0m\u001b[0;34m(\u001b[0m\u001b[0mgame\u001b[0m\u001b[0;34m,\u001b[0m \u001b[0mm\u001b[0m\u001b[0;34m)\u001b[0m\u001b[0;34m]\u001b[0m\u001b[0;34m\u001b[0m\u001b[0;34m\u001b[0m\u001b[0m\n",
      "\u001b[0;32m~/Desktop/Computing/Chess/chess/pieces.py\u001b[0m in \u001b[0;36m<listcomp>\u001b[0;34m(.0)\u001b[0m\n\u001b[1;32m    100\u001b[0m                 \u001b[0;32mpass\u001b[0m\u001b[0;34m\u001b[0m\u001b[0;34m\u001b[0m\u001b[0m\n\u001b[1;32m    101\u001b[0m \u001b[0;34m\u001b[0m\u001b[0m\n\u001b[0;32m--> 102\u001b[0;31m         \u001b[0;31m#Both makes sure move doesn't put king in check, and what moves to do if king is in check\u001b[0m\u001b[0;34m\u001b[0m\u001b[0;34m\u001b[0m\u001b[0;34m\u001b[0m\u001b[0m\n\u001b[0m\u001b[1;32m    103\u001b[0m         \u001b[0;32mif\u001b[0m \u001b[0mcheck_filt\u001b[0m\u001b[0;34m:\u001b[0m\u001b[0;34m\u001b[0m\u001b[0;34m\u001b[0m\u001b[0m\n\u001b[1;32m    104\u001b[0m             \u001b[0mvalid_moves\u001b[0m \u001b[0;34m=\u001b[0m \u001b[0;34m[\u001b[0m\u001b[0mm\u001b[0m \u001b[0;32mfor\u001b[0m \u001b[0mm\u001b[0m \u001b[0;32min\u001b[0m \u001b[0mvalid_moves\u001b[0m \u001b[0;32mif\u001b[0m \u001b[0;32mnot\u001b[0m \u001b[0mself\u001b[0m\u001b[0;34m.\u001b[0m\u001b[0mcheck_test\u001b[0m\u001b[0;34m(\u001b[0m\u001b[0mgame\u001b[0m\u001b[0;34m,\u001b[0m \u001b[0mm\u001b[0m\u001b[0;34m)\u001b[0m\u001b[0;34m]\u001b[0m\u001b[0;34m\u001b[0m\u001b[0;34m\u001b[0m\u001b[0m\n",
      "\u001b[0;32m~/Desktop/Computing/Chess/chess/pieces.py\u001b[0m in \u001b[0;36mcheck_test\u001b[0;34m(self, game, m)\u001b[0m\n\u001b[1;32m     49\u001b[0m         \u001b[0;34m\"\"\"create hypothetical game where piece moves to a potentially check-inducing position\"\"\"\u001b[0m\u001b[0;34m\u001b[0m\u001b[0;34m\u001b[0m\u001b[0m\n\u001b[1;32m     50\u001b[0m         \u001b[0;32mif\u001b[0m \u001b[0mlen\u001b[0m\u001b[0;34m(\u001b[0m\u001b[0mm\u001b[0m\u001b[0;34m)\u001b[0m \u001b[0;34m>\u001b[0m \u001b[0;36m2\u001b[0m\u001b[0;34m:\u001b[0m \u001b[0;31m#even though such a move (Taking the king) wouldn't 'make check', it's not a possible move\u001b[0m\u001b[0;34m\u001b[0m\u001b[0;34m\u001b[0m\u001b[0m\n\u001b[0;32m---> 51\u001b[0;31m             \u001b[0;32mreturn\u001b[0m \u001b[0;32mTrue\u001b[0m\u001b[0;34m\u001b[0m\u001b[0;34m\u001b[0m\u001b[0m\n\u001b[0m\u001b[1;32m     52\u001b[0m         \u001b[0mgame_copy\u001b[0m \u001b[0;34m=\u001b[0m \u001b[0mdeepcopy\u001b[0m\u001b[0;34m(\u001b[0m\u001b[0mgame\u001b[0m\u001b[0;34m)\u001b[0m\u001b[0;34m\u001b[0m\u001b[0;34m\u001b[0m\u001b[0m\n\u001b[1;32m     53\u001b[0m         \u001b[0mc\u001b[0m\u001b[0;34m,\u001b[0m \u001b[0mr\u001b[0m \u001b[0;34m=\u001b[0m \u001b[0mm\u001b[0m\u001b[0;34m\u001b[0m\u001b[0;34m\u001b[0m\u001b[0m\n",
      "\u001b[0;31mValueError\u001b[0m: too many values to unpack (expected 2)"
     ]
    }
   ],
   "source": [
    "game.teams(with_moves=True)[TEAMS[i%2]]"
   ]
  },
  {
   "cell_type": "code",
   "execution_count": 1,
   "metadata": {
    "execution": {
     "iopub.execute_input": "2021-12-07T20:50:40.763206Z",
     "iopub.status.busy": "2021-12-07T20:50:40.762790Z",
     "iopub.status.idle": "2021-12-07T20:53:53.725878Z",
     "shell.execute_reply": "2021-12-07T20:53:53.724546Z",
     "shell.execute_reply.started": "2021-12-07T20:50:40.763146Z"
    }
   },
   "outputs": [
    {
     "data": {
      "image/png": "[encoded data removed]",
      "text/plain": [
       "<Figure size 432x288 with 1 Axes>"
      ]
     },
     "metadata": {
      "needs_background": "light"
     },
     "output_type": "display_data"
    }
   ],
   "source": [
    "%matplotlib inline\n",
    "from chess.game import Chess, TEAMS, COLORS\n",
    "import random\n",
    "from IPython.display import clear_output\n",
    "import matplotlib.pyplot as plt\n",
    "import time\n",
    "mate = False\n",
    "game = Chess()\n",
    "i = 0\n",
    "2\n",
    "while not mate:\n",
    "    try:\n",
    "        piece = random.sample(game.teams(with_moves=True)[TEAMS[i%2]], 1)[0]\n",
    "    except ValueError: # when no available moves\n",
    "        mate = True \n",
    "    i+=1\n",
    "    game.move(piece, 'random', history=True)\n",
    "    game.show(title=i)\n",
    "    clear_output(wait=True)\n",
    "    plt.show()"
   ]
  },
  {
   "cell_type": "code",
   "execution_count": 17,
   "metadata": {
    "execution": {
     "iopub.execute_input": "2021-12-07T21:18:10.594158Z",
     "iopub.status.busy": "2021-12-07T21:18:10.593342Z",
     "iopub.status.idle": "2021-12-07T21:18:16.635872Z",
     "shell.execute_reply": "2021-12-07T21:18:16.634248Z",
     "shell.execute_reply.started": "2021-12-07T21:18:10.594110Z"
    }
   },
   "outputs": [
    {
     "name": "stdout",
     "output_type": "stream",
     "text": [
      "---------------w---------\n",
      "c3 [(2, 3), (1, 3)]\n",
      "e5 []\n",
      "f3 []\n",
      "Nothing to unpace in f7's moves in check_test(self, game, m)\n",
      "Rg1 [(6, 1), (7, 0), (6, 2), (6, 3), (6, 4), (6, 5)]\n",
      "Nb1 [(0, 2), (3, 1)]\n",
      "Ne2 [(2, 0), (3, 3), (6, 2)]\n",
      "Bf4 [(6, 2), (6, 4), (4, 2), (7, 1), (7, 5), (3, 1), (2, 0)]\n",
      "Bf1 [(6, 1), (7, 2)]\n",
      "Qe1 [(3, 0), (3, 1), (5, 1), (2, 0), (6, 2), (7, 3)]\n",
      "Kc2 [(1, 1), (2, 0), (3, 1), (3, 0), (3, 2)]\n",
      "---------------b---------\n",
      "b4 []\n",
      "g6 []\n",
      "Rc8 []\n",
      "Rh8 []\n",
      "Nc7 []\n",
      "Ng8 []\n",
      "Be6 [(5, 6)]\n",
      "Bf8 []\n",
      "Ke8 [(3, 7), (4, 6), (5, 6), (3, 6)]\n"
     ]
    }
   ],
   "source": [
    "for t in ('w','b'):\n",
    "    print(f'---------------{t}---------')\n",
    "    for p in game.teams()[t]:\n",
    "        \n",
    "        try:\n",
    "            print(p, game.pick(p).valid_moves(game))\n",
    "        except:\n",
    "            print(f'Nothing to unpace in {p}\\'s moves in check_test(self, game, m)')\n",
    "        "
   ]
  },
  {
   "cell_type": "code",
   "execution_count": 12,
   "metadata": {
    "execution": {
     "iopub.execute_input": "2021-12-07T20:58:51.294614Z",
     "iopub.status.busy": "2021-12-07T20:58:51.294105Z",
     "iopub.status.idle": "2021-12-07T20:58:51.304033Z",
     "shell.execute_reply": "2021-12-07T20:58:51.302850Z",
     "shell.execute_reply.started": "2021-12-07T20:58:51.294550Z"
    }
   },
   "outputs": [
    {
     "data": {
      "text/plain": [
       "536"
      ]
     },
     "execution_count": 12,
     "metadata": {},
     "output_type": "execute_result"
    }
   ],
   "source": [
    "import sys\n",
    "sys.getsizeof(game.history)"
   ]
  },
  {
   "cell_type": "code",
   "execution_count": 2,
   "metadata": {
    "execution": {
     "iopub.execute_input": "2021-12-07T20:54:50.003901Z",
     "iopub.status.busy": "2021-12-07T20:54:50.003380Z",
     "iopub.status.idle": "2021-12-07T20:54:50.015279Z",
     "shell.execute_reply": "2021-12-07T20:54:50.013027Z",
     "shell.execute_reply.started": "2021-12-07T20:54:50.003833Z"
    }
   },
   "outputs": [
    {
     "data": {
      "text/plain": [
       "True"
      ]
     },
     "execution_count": 2,
     "metadata": {},
     "output_type": "execute_result"
    }
   ],
   "source": [
    "mate"
   ]
  },
  {
   "cell_type": "code",
   "execution_count": 22,
   "metadata": {
    "execution": {
     "iopub.execute_input": "2021-12-07T20:49:56.435108Z",
     "iopub.status.busy": "2021-12-07T20:49:56.434251Z",
     "iopub.status.idle": "2021-12-07T20:49:57.087634Z",
     "shell.execute_reply": "2021-12-07T20:49:57.086438Z",
     "shell.execute_reply.started": "2021-12-07T20:49:56.434881Z"
    }
   },
   "outputs": [
    {
     "data": {
      "image/png": "[encoded data removed]",
      "text/plain": [
       "<Figure size 432x288 with 1 Axes>"
      ]
     },
     "metadata": {
      "needs_background": "light"
     },
     "output_type": "display_data"
    }
   ],
   "source": [
    "game.show(game.history[1])"
   ]
  },
  {
   "cell_type": "code",
   "execution_count": 39,
   "metadata": {
    "execution": {
     "iopub.execute_input": "2021-12-04T02:56:56.832229Z",
     "iopub.status.busy": "2021-12-04T02:56:56.831906Z",
     "iopub.status.idle": "2021-12-04T02:56:56.838295Z",
     "shell.execute_reply": "2021-12-04T02:56:56.837334Z",
     "shell.execute_reply.started": "2021-12-04T02:56:56.832195Z"
    }
   },
   "outputs": [
    {
     "data": {
      "text/plain": [
       "[a4,\n",
       " a5,\n",
       " a4,\n",
       " b2,\n",
       " c4,\n",
       " c5,\n",
       " d4,\n",
       " d5,\n",
       " e3,\n",
       " d3,\n",
       " f2,\n",
       " e2,\n",
       " h4,\n",
       " h4,\n",
       " h3,\n",
       " h4,\n",
       " Rc1,\n",
       " Ra8,\n",
       " Rg3,\n",
       " Rh5,\n",
       " Na2,\n",
       " Nd7,\n",
       " Nh2,\n",
       " Ng4,\n",
       " Ba3,\n",
       " Ba4,\n",
       " Be2,\n",
       " Bf6,\n",
       " Qd3,\n",
       " Qg7,\n",
       " Kf1,\n",
       " Kc7]"
      ]
     },
     "execution_count": 39,
     "metadata": {},
     "output_type": "execute_result"
    }
   ],
   "source": [
    "game.pieces"
   ]
  },
  {
   "cell_type": "code",
   "execution_count": 26,
   "metadata": {
    "execution": {
     "iopub.execute_input": "2021-12-03T07:12:53.915115Z",
     "iopub.status.busy": "2021-12-03T07:12:53.914487Z",
     "iopub.status.idle": "2021-12-03T07:12:53.926140Z",
     "shell.execute_reply": "2021-12-03T07:12:53.924871Z",
     "shell.execute_reply.started": "2021-12-03T07:12:53.915052Z"
    }
   },
   "outputs": [
    {
     "data": {
      "text/plain": [
       "{'w': ['a4',\n",
       "  'c4',\n",
       "  'd4',\n",
       "  'e3',\n",
       "  'f2',\n",
       "  'h3',\n",
       "  'Rc1',\n",
       "  'Rg3',\n",
       "  'Na2',\n",
       "  'Nh2',\n",
       "  'Ba3',\n",
       "  'Kf1'],\n",
       " 'b': ['a5',\n",
       "  'b2',\n",
       "  'c5',\n",
       "  'd5',\n",
       "  'e2',\n",
       "  'h4',\n",
       "  'Ra8',\n",
       "  'Rh5',\n",
       "  'Nd7',\n",
       "  'Ng4',\n",
       "  'Bf6',\n",
       "  'Qg7',\n",
       "  'Kc7']}"
      ]
     },
     "execution_count": 26,
     "metadata": {},
     "output_type": "execute_result"
    }
   ],
   "source": [
    "game.teams()"
   ]
  },
  {
   "cell_type": "code",
   "execution_count": 18,
   "metadata": {
    "execution": {
     "iopub.execute_input": "2021-12-03T07:07:32.856748Z",
     "iopub.status.busy": "2021-12-03T07:07:32.856078Z",
     "iopub.status.idle": "2021-12-03T07:07:32.877096Z",
     "shell.execute_reply": "2021-12-03T07:07:32.875662Z",
     "shell.execute_reply.started": "2021-12-03T07:07:32.856681Z"
    }
   },
   "outputs": [
    {
     "data": {
      "text/plain": [
       "{'w': 'gray', 'b': 'black'}"
      ]
     },
     "execution_count": 18,
     "metadata": {},
     "output_type": "execute_result"
    }
   ],
   "source": [
    "COLORS"
   ]
  }
 ],
 "metadata": {
  "kernelspec": {
   "display_name": "Python 3",
   "language": "python",
   "name": "python3"
  },
  "language_info": {
   "codemirror_mode": {
    "name": "ipython",
    "version": 3
   },
   "file_extension": ".py",
   "mimetype": "text/x-python",
   "name": "python",
   "nbconvert_exporter": "python",
   "pygments_lexer": "ipython3",
   "version": "3.7.4"
  }
 },
 "nbformat": 4,
 "nbformat_minor": 4
}
